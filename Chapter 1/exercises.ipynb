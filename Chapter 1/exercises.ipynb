{
 "cells": [
  {
   "cell_type": "markdown",
   "metadata": {},
   "source": []
  },
  {
   "cell_type": "markdown",
   "metadata": {},
   "source": [
    "# Chapter 1 Exercises\n",
    "\n",
    "1. **How would you define Machine Learning?**\n",
    "\n",
    "    After reading the definitions given by the book,\n",
    "    I'm inclined to give a more mathematical definition\n",
    "    of machine learning:\n",
    "\n",
    "    _Machine Learning_ is the study of how a computer program $P$\n",
    "    can complete a task $T$ with data $E$ without explicit programing.\n",
    "    Explicit programs of a task $T$ can be defined as programs\n",
    "    which do not depend on $E$ to function. Generally, the goal of \n",
    "    the program is to improve its score in completeing task $T$\n",
    "    with respect to data $E$ efficiently.\n",
    "\n",
    "2. **Can you name four types of problems where it shines?**\n",
    "\n",
    "    1. b"
   ]
  },
  {
   "cell_type": "code",
   "execution_count": null,
   "metadata": {},
   "outputs": [],
   "source": []
  }
 ],
 "metadata": {
  "language_info": {
   "name": "python"
  },
  "orig_nbformat": 4
 },
 "nbformat": 4,
 "nbformat_minor": 2
}
